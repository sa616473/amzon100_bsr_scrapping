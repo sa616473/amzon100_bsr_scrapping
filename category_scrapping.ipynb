{
 "cells": [
  {
   "cell_type": "code",
   "execution_count": 72,
   "metadata": {},
   "outputs": [],
   "source": [
    "from selenium import webdriver\n",
    "from bs4 import BeautifulSoup, NavigableString\n",
    "import pandas as pd\n",
    "import time"
   ]
  },
  {
   "cell_type": "code",
   "execution_count": 73,
   "metadata": {},
   "outputs": [],
   "source": []
  },
  {
   "cell_type": "code",
   "execution_count": 74,
   "metadata": {},
   "outputs": [],
   "source": []
  },
  {
   "cell_type": "code",
   "execution_count": 75,
   "metadata": {},
   "outputs": [],
   "source": []
  },
  {
   "cell_type": "code",
   "execution_count": 78,
   "metadata": {},
   "outputs": [],
   "source": [
    "#initializing selium\n"
   ]
  },
  {
   "cell_type": "code",
   "execution_count": 79,
   "metadata": {},
   "outputs": [
    {
     "name": "stdout",
     "output_type": "stream",
     "text": [
      "https://www.amazon.com/Best-Sellers/zgbs/amazon-devices/ref=zg_bs_nav_0/130-0307685-6896668\n",
      "https://www.amazon.com/Best-Sellers-Amazon-Launchpad/zgbs/boost/ref=zg_bs_nav_0/130-0307685-6896668\n",
      "https://www.amazon.com/Best-Sellers-Appliances/zgbs/appliances/ref=zg_bs_nav_0/130-0307685-6896668\n",
      "https://www.amazon.com/Best-Sellers-Appstore-Android/zgbs/mobile-apps/ref=zg_bs_nav_0/130-0307685-6896668\n",
      "https://www.amazon.com/Best-Sellers-Arts-Crafts-Sewing/zgbs/arts-crafts/ref=zg_bs_nav_0/130-0307685-6896668\n",
      "https://www.amazon.com/Best-Sellers-Audible-Audiobooks/zgbs/audible/ref=zg_bs_nav_0/130-0307685-6896668\n",
      "https://www.amazon.com/Best-Sellers-Automotive/zgbs/automotive/ref=zg_bs_nav_0/130-0307685-6896668\n",
      "https://www.amazon.com/Best-Sellers-Baby/zgbs/baby-products/ref=zg_bs_nav_0/130-0307685-6896668\n",
      "https://www.amazon.com/Best-Sellers-Beauty/zgbs/beauty/ref=zg_bs_nav_0/130-0307685-6896668\n",
      "https://www.amazon.com/best-sellers-books-Amazon/zgbs/books/ref=zg_bs_nav_0/130-0307685-6896668\n",
      "https://www.amazon.com/best-sellers-music-albums/zgbs/music/ref=zg_bs_nav_0/130-0307685-6896668\n",
      "https://www.amazon.com/best-sellers-camera-photo/zgbs/photo/ref=zg_bs_nav_0/130-0307685-6896668\n",
      "https://www.amazon.com/Best-Sellers/zgbs/wireless/ref=zg_bs_nav_0/130-0307685-6896668\n",
      "https://www.amazon.com/Best-Sellers/zgbs/fashion/ref=zg_bs_nav_0/130-0307685-6896668\n",
      "https://www.amazon.com/Best-Sellers-Collectible-Coins/zgbs/coins/ref=zg_bs_nav_0/130-0307685-6896668\n",
      "https://www.amazon.com/Best-Sellers-Computers-Accessories/zgbs/pc/ref=zg_bs_nav_0/130-0307685-6896668\n",
      "https://www.amazon.com/Best-Sellers/zgbs/digital-educational-resources/ref=zg_bs_nav_0/130-0307685-6896668\n",
      "https://www.amazon.com/Best-Sellers-MP3-Downloads/zgbs/dmusic/ref=zg_bs_nav_0/130-0307685-6896668\n",
      "https://www.amazon.com/Best-Sellers-Electronics/zgbs/electronics/ref=zg_bs_nav_0/130-0307685-6896668\n",
      "https://www.amazon.com/Best-Sellers-Entertainment-Collectibles/zgbs/entertainment-collectibles/ref=zg_bs_nav_0/130-0307685-6896668\n",
      "https://www.amazon.com/Best-Sellers-Gift-Cards/zgbs/gift-cards/ref=zg_bs_nav_0/130-0307685-6896668\n",
      "https://www.amazon.com/Best-Sellers-Grocery-Gourmet-Food/zgbs/grocery/ref=zg_bs_nav_0/130-0307685-6896668\n",
      "https://www.amazon.com/Best-Sellers-Handmade/zgbs/handmade/ref=zg_bs_nav_0/130-0307685-6896668\n",
      "https://www.amazon.com/Best-Sellers-Health-Personal-Care/zgbs/hpc/ref=zg_bs_nav_0/130-0307685-6896668\n",
      "https://www.amazon.com/Best-Sellers-Home-Kitchen/zgbs/home-garden/ref=zg_bs_nav_0/130-0307685-6896668\n",
      "https://www.amazon.com/Best-Sellers-Industrial-Scientific/zgbs/industrial/ref=zg_bs_nav_0/130-0307685-6896668\n",
      "https://www.amazon.com/Best-Sellers-Kindle-Store/zgbs/digital-text/ref=zg_bs_nav_0/130-0307685-6896668\n",
      "https://www.amazon.com/Best-Sellers-Kitchen-Dining/zgbs/kitchen/ref=zg_bs_nav_0/130-0307685-6896668\n",
      "https://www.amazon.com/Best-Sellers-Magazines/zgbs/magazines/ref=zg_bs_nav_0/130-0307685-6896668\n",
      "https://www.amazon.com/best-sellers-movies-TV-DVD-Blu-ray/zgbs/movies-tv/ref=zg_bs_nav_0/130-0307685-6896668\n",
      "https://www.amazon.com/Best-Sellers-Musical-Instruments/zgbs/musical-instruments/ref=zg_bs_nav_0/130-0307685-6896668\n",
      "https://www.amazon.com/Best-Sellers-Office-Products/zgbs/office-products/ref=zg_bs_nav_0/130-0307685-6896668\n",
      "https://www.amazon.com/Best-Sellers-Garden-Outdoor/zgbs/lawn-garden/ref=zg_bs_nav_0/130-0307685-6896668\n",
      "https://www.amazon.com/Best-Sellers-Pet-Supplies/zgbs/pet-supplies/ref=zg_bs_nav_0/130-0307685-6896668\n",
      "https://www.amazon.com/best-sellers-software/zgbs/software/ref=zg_bs_nav_0/130-0307685-6896668\n",
      "https://www.amazon.com/Best-Sellers-Sports-Outdoors/zgbs/sporting-goods/ref=zg_bs_nav_0/130-0307685-6896668\n",
      "https://www.amazon.com/Best-Sellers-Sports-Collectibles/zgbs/sports-collectibles/ref=zg_bs_nav_0/130-0307685-6896668\n",
      "https://www.amazon.com/Best-Sellers-Home-Improvement/zgbs/hi/ref=zg_bs_nav_0/130-0307685-6896668\n",
      "https://www.amazon.com/Best-Sellers-Toys-Games/zgbs/toys-and-games/ref=zg_bs_nav_0/130-0307685-6896668\n",
      "https://www.amazon.com/best-sellers-video-games/zgbs/videogames/ref=zg_bs_nav_0/130-0307685-6896668\n"
     ]
    }
   ],
   "source": []
  },
  {
   "cell_type": "code",
   "execution_count": 61,
   "metadata": {},
   "outputs": [
    {
     "data": {
      "text/plain": [
       "0      https://www.amazon.com/Best-Sellers/zgbs/amazo...\n",
       "1      https://www.amazon.com/Best-Sellers/zgbs/amazo...\n",
       "2      https://www.amazon.com/Best-Sellers/zgbs/amazo...\n",
       "3      https://www.amazon.com/Best-Sellers/zgbs/amazo...\n",
       "4      https://www.amazon.com/Best-Sellers/zgbs/amazo...\n",
       "                             ...                        \n",
       "195    https://www.amazon.com/Best-Sellers/zgbs/amazo...\n",
       "196    https://www.amazon.com/Best-Sellers/zgbs/amazo...\n",
       "197    https://www.amazon.com/Best-Sellers/zgbs/amazo...\n",
       "198    https://www.amazon.com/Best-Sellers/zgbs/amazo...\n",
       "199    https://www.amazon.com/Best-Sellers/zgbs/amazo...\n",
       "Name: URL, Length: 200, dtype: object"
      ]
     },
     "execution_count": 61,
     "metadata": {},
     "output_type": "execute_result"
    }
   ],
   "source": [
    "df['URL']"
   ]
  },
  {
   "cell_type": "code",
   "execution_count": 71,
   "metadata": {},
   "outputs": [
    {
     "data": {
      "text/plain": [
       "0      https://www.amazon.com/Best-Sellers/zgbs/amazo...\n",
       "1      https://www.amazon.com/Best-Sellers/zgbs/amazo...\n",
       "2      https://www.amazon.com/Best-Sellers/zgbs/amazo...\n",
       "3      https://www.amazon.com/Best-Sellers/zgbs/amazo...\n",
       "4      https://www.amazon.com/Best-Sellers/zgbs/amazo...\n",
       "                             ...                        \n",
       "195    https://www.amazon.com/Best-Sellers/zgbs/amazo...\n",
       "196    https://www.amazon.com/Best-Sellers/zgbs/amazo...\n",
       "197    https://www.amazon.com/Best-Sellers/zgbs/amazo...\n",
       "198    https://www.amazon.com/Best-Sellers/zgbs/amazo...\n",
       "199    https://www.amazon.com/Best-Sellers/zgbs/amazo...\n",
       "Name: URL, Length: 200, dtype: object"
      ]
     },
     "execution_count": 71,
     "metadata": {},
     "output_type": "execute_result"
    }
   ],
   "source": [
    "for df['URL']"
   ]
  },
  {
   "cell_type": "code",
   "execution_count": null,
   "metadata": {},
   "outputs": [],
   "source": []
  }
 ],
 "metadata": {
  "kernelspec": {
   "display_name": "Python 3",
   "language": "python",
   "name": "python3"
  },
  "language_info": {
   "codemirror_mode": {
    "name": "ipython",
    "version": 3
   },
   "file_extension": ".py",
   "mimetype": "text/x-python",
   "name": "python",
   "nbconvert_exporter": "python",
   "pygments_lexer": "ipython3",
   "version": "3.8.5"
  }
 },
 "nbformat": 4,
 "nbformat_minor": 4
}
